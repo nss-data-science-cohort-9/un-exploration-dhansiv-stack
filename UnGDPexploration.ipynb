{
 "cells": [
  {
   "cell_type": "code",
   "execution_count": 39,
   "id": "02dc46de-6696-49a1-aed3-20953604094a",
   "metadata": {},
   "outputs": [],
   "source": [
    "import pandas as pd\n",
    "import numpy as np\n",
    "import matplotlib.pyplot as plt\n",
    "import seaborn as sns\n",
    "\n"
   ]
  },
  {
   "cell_type": "markdown",
   "id": "9be180ee-c2b4-405d-b4bd-3f357df8e43e",
   "metadata": {},
   "source": [
    "**Q4. Using the pandas read_csv() function, read the GDP dataset into your notebook as a DataFrame called gdp_df.** "
   ]
  },
  {
   "cell_type": "markdown",
   "id": "51df7932-4960-4b5a-ad86-1a050e743235",
   "metadata": {},
   "source": [
    "**Q4: Inspect the last 10 rows.**"
   ]
  },
  {
   "cell_type": "code",
   "execution_count": 53,
   "id": "487963c4-497e-4437-b31e-0cccf6da762f",
   "metadata": {},
   "outputs": [
    {
     "name": "stdout",
     "output_type": "stream",
     "text": [
      "C:\\Users\\dhans\\Documents\\DataScience\\Program\\un-exploration-dhansiv-stack\n"
     ]
    }
   ],
   "source": [
    "!cd"
   ]
  },
  {
   "cell_type": "code",
   "execution_count": 55,
   "id": "644104c4-9c09-464c-8222-480438ab1940",
   "metadata": {},
   "outputs": [
    {
     "name": "stdout",
     "output_type": "stream",
     "text": [
      "     Country  or Area  Year        Value  Value Footnotes\n",
      "0         Afghanistan  2023  1992.424394              NaN\n",
      "1         Afghanistan  2022  1981.710168              NaN\n",
      "2         Afghanistan  2021  2144.166570              NaN\n",
      "3         Afghanistan  2020  2769.685745              NaN\n",
      "4         Afghanistan  2019  2927.245144              NaN\n",
      "...               ...   ...          ...              ...\n",
      "8214         Zimbabwe  1994  3965.730986              NaN\n",
      "8215         Zimbabwe  1993  3634.750494              NaN\n",
      "8216         Zimbabwe  1992  3649.891947              NaN\n",
      "8217         Zimbabwe  1991  4126.405247              NaN\n",
      "8218         Zimbabwe  1990  4013.299059              NaN\n",
      "\n",
      "[8219 rows x 4 columns]\n"
     ]
    }
   ],
   "source": [
    "gdp_df = pd.read_csv(\"data/gdp_per_capita.csv\")\n",
    "print(gdp_df)"
   ]
  },
  {
   "cell_type": "code",
   "execution_count": 56,
   "id": "1cf7da57-9fe0-4990-b53d-4db80b50d0a9",
   "metadata": {},
   "outputs": [
    {
     "data": {
      "text/html": [
       "<div>\n",
       "<style scoped>\n",
       "    .dataframe tbody tr th:only-of-type {\n",
       "        vertical-align: middle;\n",
       "    }\n",
       "\n",
       "    .dataframe tbody tr th {\n",
       "        vertical-align: top;\n",
       "    }\n",
       "\n",
       "    .dataframe thead th {\n",
       "        text-align: right;\n",
       "    }\n",
       "</style>\n",
       "<table border=\"1\" class=\"dataframe\">\n",
       "  <thead>\n",
       "    <tr style=\"text-align: right;\">\n",
       "      <th></th>\n",
       "      <th>Country  or Area</th>\n",
       "      <th>Year</th>\n",
       "      <th>Value</th>\n",
       "      <th>Value Footnotes</th>\n",
       "    </tr>\n",
       "  </thead>\n",
       "  <tbody>\n",
       "    <tr>\n",
       "      <th>8209</th>\n",
       "      <td>Zimbabwe</td>\n",
       "      <td>1999</td>\n",
       "      <td>4238.195198</td>\n",
       "      <td>NaN</td>\n",
       "    </tr>\n",
       "    <tr>\n",
       "      <th>8210</th>\n",
       "      <td>Zimbabwe</td>\n",
       "      <td>1998</td>\n",
       "      <td>4342.858177</td>\n",
       "      <td>NaN</td>\n",
       "    </tr>\n",
       "    <tr>\n",
       "      <th>8211</th>\n",
       "      <td>Zimbabwe</td>\n",
       "      <td>1997</td>\n",
       "      <td>4304.406272</td>\n",
       "      <td>NaN</td>\n",
       "    </tr>\n",
       "    <tr>\n",
       "      <th>8212</th>\n",
       "      <td>Zimbabwe</td>\n",
       "      <td>1996</td>\n",
       "      <td>4271.479930</td>\n",
       "      <td>NaN</td>\n",
       "    </tr>\n",
       "    <tr>\n",
       "      <th>8213</th>\n",
       "      <td>Zimbabwe</td>\n",
       "      <td>1995</td>\n",
       "      <td>3935.280057</td>\n",
       "      <td>NaN</td>\n",
       "    </tr>\n",
       "    <tr>\n",
       "      <th>8214</th>\n",
       "      <td>Zimbabwe</td>\n",
       "      <td>1994</td>\n",
       "      <td>3965.730986</td>\n",
       "      <td>NaN</td>\n",
       "    </tr>\n",
       "    <tr>\n",
       "      <th>8215</th>\n",
       "      <td>Zimbabwe</td>\n",
       "      <td>1993</td>\n",
       "      <td>3634.750494</td>\n",
       "      <td>NaN</td>\n",
       "    </tr>\n",
       "    <tr>\n",
       "      <th>8216</th>\n",
       "      <td>Zimbabwe</td>\n",
       "      <td>1992</td>\n",
       "      <td>3649.891947</td>\n",
       "      <td>NaN</td>\n",
       "    </tr>\n",
       "    <tr>\n",
       "      <th>8217</th>\n",
       "      <td>Zimbabwe</td>\n",
       "      <td>1991</td>\n",
       "      <td>4126.405247</td>\n",
       "      <td>NaN</td>\n",
       "    </tr>\n",
       "    <tr>\n",
       "      <th>8218</th>\n",
       "      <td>Zimbabwe</td>\n",
       "      <td>1990</td>\n",
       "      <td>4013.299059</td>\n",
       "      <td>NaN</td>\n",
       "    </tr>\n",
       "  </tbody>\n",
       "</table>\n",
       "</div>"
      ],
      "text/plain": [
       "     Country  or Area  Year        Value  Value Footnotes\n",
       "8209         Zimbabwe  1999  4238.195198              NaN\n",
       "8210         Zimbabwe  1998  4342.858177              NaN\n",
       "8211         Zimbabwe  1997  4304.406272              NaN\n",
       "8212         Zimbabwe  1996  4271.479930              NaN\n",
       "8213         Zimbabwe  1995  3935.280057              NaN\n",
       "8214         Zimbabwe  1994  3965.730986              NaN\n",
       "8215         Zimbabwe  1993  3634.750494              NaN\n",
       "8216         Zimbabwe  1992  3649.891947              NaN\n",
       "8217         Zimbabwe  1991  4126.405247              NaN\n",
       "8218         Zimbabwe  1990  4013.299059              NaN"
      ]
     },
     "execution_count": 56,
     "metadata": {},
     "output_type": "execute_result"
    }
   ],
   "source": [
    "gdp_df.tail(10)"
   ]
  },
  {
   "cell_type": "markdown",
   "id": "6ca97377-4007-4ca0-8b14-761299960a62",
   "metadata": {},
   "source": [
    "**Q4: Inspect the first 10 rows.**"
   ]
  },
  {
   "cell_type": "code",
   "execution_count": 57,
   "id": "3e556435-e603-43d4-95b9-71659443ef56",
   "metadata": {},
   "outputs": [
    {
     "data": {
      "text/html": [
       "<div>\n",
       "<style scoped>\n",
       "    .dataframe tbody tr th:only-of-type {\n",
       "        vertical-align: middle;\n",
       "    }\n",
       "\n",
       "    .dataframe tbody tr th {\n",
       "        vertical-align: top;\n",
       "    }\n",
       "\n",
       "    .dataframe thead th {\n",
       "        text-align: right;\n",
       "    }\n",
       "</style>\n",
       "<table border=\"1\" class=\"dataframe\">\n",
       "  <thead>\n",
       "    <tr style=\"text-align: right;\">\n",
       "      <th></th>\n",
       "      <th>Country  or Area</th>\n",
       "      <th>Year</th>\n",
       "      <th>Value</th>\n",
       "      <th>Value Footnotes</th>\n",
       "    </tr>\n",
       "  </thead>\n",
       "  <tbody>\n",
       "    <tr>\n",
       "      <th>0</th>\n",
       "      <td>Afghanistan</td>\n",
       "      <td>2023</td>\n",
       "      <td>1992.424394</td>\n",
       "      <td>NaN</td>\n",
       "    </tr>\n",
       "    <tr>\n",
       "      <th>1</th>\n",
       "      <td>Afghanistan</td>\n",
       "      <td>2022</td>\n",
       "      <td>1981.710168</td>\n",
       "      <td>NaN</td>\n",
       "    </tr>\n",
       "    <tr>\n",
       "      <th>2</th>\n",
       "      <td>Afghanistan</td>\n",
       "      <td>2021</td>\n",
       "      <td>2144.166570</td>\n",
       "      <td>NaN</td>\n",
       "    </tr>\n",
       "    <tr>\n",
       "      <th>3</th>\n",
       "      <td>Afghanistan</td>\n",
       "      <td>2020</td>\n",
       "      <td>2769.685745</td>\n",
       "      <td>NaN</td>\n",
       "    </tr>\n",
       "    <tr>\n",
       "      <th>4</th>\n",
       "      <td>Afghanistan</td>\n",
       "      <td>2019</td>\n",
       "      <td>2927.245144</td>\n",
       "      <td>NaN</td>\n",
       "    </tr>\n",
       "    <tr>\n",
       "      <th>5</th>\n",
       "      <td>Afghanistan</td>\n",
       "      <td>2018</td>\n",
       "      <td>2902.392113</td>\n",
       "      <td>NaN</td>\n",
       "    </tr>\n",
       "    <tr>\n",
       "      <th>6</th>\n",
       "      <td>Afghanistan</td>\n",
       "      <td>2017</td>\n",
       "      <td>2952.998916</td>\n",
       "      <td>NaN</td>\n",
       "    </tr>\n",
       "    <tr>\n",
       "      <th>7</th>\n",
       "      <td>Afghanistan</td>\n",
       "      <td>2016</td>\n",
       "      <td>2958.785399</td>\n",
       "      <td>NaN</td>\n",
       "    </tr>\n",
       "    <tr>\n",
       "      <th>8</th>\n",
       "      <td>Afghanistan</td>\n",
       "      <td>2015</td>\n",
       "      <td>2967.692067</td>\n",
       "      <td>NaN</td>\n",
       "    </tr>\n",
       "    <tr>\n",
       "      <th>9</th>\n",
       "      <td>Afghanistan</td>\n",
       "      <td>2014</td>\n",
       "      <td>3017.942544</td>\n",
       "      <td>NaN</td>\n",
       "    </tr>\n",
       "  </tbody>\n",
       "</table>\n",
       "</div>"
      ],
      "text/plain": [
       "  Country  or Area  Year        Value  Value Footnotes\n",
       "0      Afghanistan  2023  1992.424394              NaN\n",
       "1      Afghanistan  2022  1981.710168              NaN\n",
       "2      Afghanistan  2021  2144.166570              NaN\n",
       "3      Afghanistan  2020  2769.685745              NaN\n",
       "4      Afghanistan  2019  2927.245144              NaN\n",
       "5      Afghanistan  2018  2902.392113              NaN\n",
       "6      Afghanistan  2017  2952.998916              NaN\n",
       "7      Afghanistan  2016  2958.785399              NaN\n",
       "8      Afghanistan  2015  2967.692067              NaN\n",
       "9      Afghanistan  2014  3017.942544              NaN"
      ]
     },
     "execution_count": 57,
     "metadata": {},
     "output_type": "execute_result"
    }
   ],
   "source": [
    "gdp_df.head(10)"
   ]
  },
  {
   "cell_type": "markdown",
   "id": "8e8abcc1-8e17-4c58-8a8b-b8b19ca3689a",
   "metadata": {},
   "source": [
    "**Q5: Drop the 'Value Footnotes' column, and rename the remaining columns to 'Country', 'Year', and 'GDP_Per_Capita'.**"
   ]
  },
  {
   "cell_type": "code",
   "execution_count": 58,
   "id": "773df82e-5f34-4e27-94ab-d9e25ed4d25d",
   "metadata": {},
   "outputs": [
    {
     "data": {
      "text/html": [
       "<div>\n",
       "<style scoped>\n",
       "    .dataframe tbody tr th:only-of-type {\n",
       "        vertical-align: middle;\n",
       "    }\n",
       "\n",
       "    .dataframe tbody tr th {\n",
       "        vertical-align: top;\n",
       "    }\n",
       "\n",
       "    .dataframe thead th {\n",
       "        text-align: right;\n",
       "    }\n",
       "</style>\n",
       "<table border=\"1\" class=\"dataframe\">\n",
       "  <thead>\n",
       "    <tr style=\"text-align: right;\">\n",
       "      <th></th>\n",
       "      <th>Country</th>\n",
       "      <th>Year</th>\n",
       "      <th>GDP_Per_Capita</th>\n",
       "    </tr>\n",
       "  </thead>\n",
       "  <tbody>\n",
       "    <tr>\n",
       "      <th>0</th>\n",
       "      <td>Afghanistan</td>\n",
       "      <td>2023</td>\n",
       "      <td>1992.424394</td>\n",
       "    </tr>\n",
       "    <tr>\n",
       "      <th>1</th>\n",
       "      <td>Afghanistan</td>\n",
       "      <td>2022</td>\n",
       "      <td>1981.710168</td>\n",
       "    </tr>\n",
       "  </tbody>\n",
       "</table>\n",
       "</div>"
      ],
      "text/plain": [
       "       Country  Year  GDP_Per_Capita\n",
       "0  Afghanistan  2023     1992.424394\n",
       "1  Afghanistan  2022     1981.710168"
      ]
     },
     "execution_count": 58,
     "metadata": {},
     "output_type": "execute_result"
    }
   ],
   "source": [
    "gdp_df = (gdp_df.drop(\"Value Footnotes\", axis=1)\n",
    "                    .rename(columns = {'Country  or Area': 'Country', 'Value': 'GDP_Per_Capita'})\n",
    ")\n",
    "gdp_df.head(2)\n",
    "\n"
   ]
  },
  {
   "cell_type": "markdown",
   "id": "9a512f0f-714e-45bc-9363-70bb3d98ac5d",
   "metadata": {},
   "source": [
    "**Q6: How many rows and columns does gdp_df have? What are the data types of its columns? If any of the columns are not the expected types, figure out why and fix it.**"
   ]
  },
  {
   "cell_type": "code",
   "execution_count": 59,
   "id": "ceb2dfb9-4628-4f14-b409-9f30ffcf5f2d",
   "metadata": {},
   "outputs": [
    {
     "name": "stdout",
     "output_type": "stream",
     "text": [
      "The DataFrame has 8219 rows and 3 columns.\n",
      "Country            object\n",
      "Year                int64\n",
      "GDP_Per_Capita    float64\n",
      "dtype: object\n"
     ]
    }
   ],
   "source": [
    "num_rows, num_cols = gdp_df.shape\n",
    "print(f\"The DataFrame has {num_rows} rows and {num_cols} columns.\")\n",
    "print(gdp_df.dtypes)\n"
   ]
  },
  {
   "cell_type": "markdown",
   "id": "f8c62a38-ff5d-467c-a47c-4dc84d9c7053",
   "metadata": {},
   "source": [
    "**Q7: Which years are represented in this dataset? Take a look at the number of observations per year. What do you notice?**\n",
    "\n",
    "**Comment**. I found that there is more than 200 observation for each year."
   ]
  },
  {
   "cell_type": "code",
   "execution_count": 60,
   "id": "c26ea6c7-1a7c-4c29-aac1-eb6ad642b10a",
   "metadata": {},
   "outputs": [
    {
     "data": {
      "text/plain": [
       "Year\n",
       "1990    233\n",
       "1991    234\n",
       "1992    234\n",
       "1993    234\n",
       "1994    235\n",
       "1995    236\n",
       "1996    236\n",
       "1997    238\n",
       "1998    238\n",
       "1999    238\n",
       "2000    240\n",
       "2001    240\n",
       "2002    241\n",
       "2003    241\n",
       "2004    241\n",
       "2005    241\n",
       "2006    242\n",
       "2007    242\n",
       "2008    244\n",
       "2009    245\n",
       "2010    245\n",
       "2011    246\n",
       "2012    246\n",
       "2013    247\n",
       "2014    247\n",
       "2015    247\n",
       "2016    247\n",
       "2017    247\n",
       "2018    247\n",
       "2019    247\n",
       "2020    247\n",
       "2021    247\n",
       "2022    246\n",
       "2023    240\n",
       "Name: count, dtype: int64"
      ]
     },
     "execution_count": 60,
     "metadata": {},
     "output_type": "execute_result"
    }
   ],
   "source": [
    "gdp_df['Year'].value_counts().sort_index()"
   ]
  },
  {
   "cell_type": "code",
   "execution_count": 61,
   "id": "28fb6277-d45c-4954-8b7e-93fba26fec02",
   "metadata": {},
   "outputs": [
    {
     "data": {
      "image/png": "[encoded data removed]",
      "text/plain": [
       "<Figure size 640x480 with 1 Axes>"
      ]
     },
     "metadata": {},
     "output_type": "display_data"
    }
   ],
   "source": [
    " gdp_df['Year'].value_counts().sort_index().plot();"
   ]
  },
  {
   "cell_type": "markdown",
   "id": "2abf7661-a225-414c-b03d-f0b7d9031174",
   "metadata": {},
   "source": [
    "**Q8:How many countries are represented in this dataset? Which countries are least represented in the dataset? Why do you think these countries have so few observations?**\n",
    "\n",
    "**Comment**. I believe that their limited presence may be attributed to a poor economic status."
   ]
  },
  {
   "cell_type": "code",
   "execution_count": 62,
   "id": "3e2f8ca8-78be-4be2-aeda-2c3d69fc65b3",
   "metadata": {
    "scrolled": true
   },
   "outputs": [
    {
     "name": "stdout",
     "output_type": "stream",
     "text": [
      "Country\n",
      "Djibouti                     11\n",
      "Turks and Caicos Islands     13\n",
      "Sint Maarten (Dutch part)    15\n",
      "Faroe Islands                16\n",
      "Kosovo                       16\n",
      "Cayman Islands               18\n",
      "Name: GDP_Per_Capita, dtype: int64\n"
     ]
    }
   ],
   "source": [
    "Num_obs_Country_counts = gdp_df.groupby(\"Country\")[\"GDP_Per_Capita\"].count().sort_values()\n",
    "Least_obs_country = Num_obs_Country_counts[Num_obs_Country_counts<20]\n",
    "print(Least_obs_country)"
   ]
  },
  {
   "cell_type": "markdown",
   "id": "98d4550d-4273-44f0-a005-5cc3cfdacf80",
   "metadata": {},
   "source": [
    "**Q9: Create a new dataframe by subsetting gdp_df to just the year 2021. Call this new dataframe gdp_2021.**"
   ]
  },
  {
   "cell_type": "code",
   "execution_count": 63,
   "id": "846eacb4-5931-4fe4-963d-e0e8fe350bc4",
   "metadata": {},
   "outputs": [],
   "source": [
    "gdp_2021 = gdp_df[gdp_df['Year'] == 2021]"
   ]
  },
  {
   "cell_type": "markdown",
   "id": "c6eb5534-6a2e-4640-bd4a-a789d3cc777d",
   "metadata": {},
   "source": [
    "**Q10: Use .describe() to find the summary statistics for GDP per capita in 2021.**"
   ]
  },
  {
   "cell_type": "code",
   "execution_count": 64,
   "id": "0c95a353-3981-485f-85b7-75a9928a8a99",
   "metadata": {},
   "outputs": [
    {
     "data": {
      "text/html": [
       "<div>\n",
       "<style scoped>\n",
       "    .dataframe tbody tr th:only-of-type {\n",
       "        vertical-align: middle;\n",
       "    }\n",
       "\n",
       "    .dataframe tbody tr th {\n",
       "        vertical-align: top;\n",
       "    }\n",
       "\n",
       "    .dataframe thead th {\n",
       "        text-align: right;\n",
       "    }\n",
       "</style>\n",
       "<table border=\"1\" class=\"dataframe\">\n",
       "  <thead>\n",
       "    <tr style=\"text-align: right;\">\n",
       "      <th></th>\n",
       "      <th>Country</th>\n",
       "      <th>Year</th>\n",
       "      <th>GDP_Per_Capita</th>\n",
       "    </tr>\n",
       "  </thead>\n",
       "  <tbody>\n",
       "    <tr>\n",
       "      <th>2</th>\n",
       "      <td>Afghanistan</td>\n",
       "      <td>2021</td>\n",
       "      <td>2144.166570</td>\n",
       "    </tr>\n",
       "    <tr>\n",
       "      <th>26</th>\n",
       "      <td>Africa Eastern and Southern</td>\n",
       "      <td>2021</td>\n",
       "      <td>3934.287267</td>\n",
       "    </tr>\n",
       "  </tbody>\n",
       "</table>\n",
       "</div>"
      ],
      "text/plain": [
       "                        Country  Year  GDP_Per_Capita\n",
       "2                   Afghanistan  2021     2144.166570\n",
       "26  Africa Eastern and Southern  2021     3934.287267"
      ]
     },
     "execution_count": 64,
     "metadata": {},
     "output_type": "execute_result"
    }
   ],
   "source": [
    "gdp_2021.head(2)"
   ]
  },
  {
   "cell_type": "code",
   "execution_count": 65,
   "id": "c2a79dec-7495-4bdd-831b-942ee4a05e86",
   "metadata": {},
   "outputs": [
    {
     "data": {
      "text/plain": [
       "count       247.000000\n",
       "mean      24478.517262\n",
       "std       24601.525764\n",
       "min         836.665571\n",
       "25%        5996.532844\n",
       "50%       15900.976580\n",
       "75%       37298.776850\n",
       "max      135379.291200\n",
       "Name: GDP_Per_Capita, dtype: float64"
      ]
     },
     "execution_count": 65,
     "metadata": {},
     "output_type": "execute_result"
    }
   ],
   "source": [
    "gdp_2021['GDP_Per_Capita'].describe()"
   ]
  },
  {
   "cell_type": "markdown",
   "id": "20590c82-4aab-4b9a-992a-0681389491c9",
   "metadata": {},
   "source": [
    "**Q11: Create a histogram of GDP Per Capita numbers for 2021 (you may wish to adjust the number of bins for your histogram). How would you describe the shape of the distribution?**\n",
    "\n",
    "**Comment**: The Histogram shows a non-uniform distribution of GDP_Per_Capita in 2021. Furthermore, it reveals that a very small percentage of countries are performing well economically, while the majority are under performing."
   ]
  },
  {
   "cell_type": "code",
   "execution_count": 66,
   "id": "822e8cb0-184f-42a7-aeda-a72ccdcf8083",
   "metadata": {},
   "outputs": [
    {
     "data": {
      "image/png": "[encoded data removed]",
      "text/plain": [
       "<Figure size 640x480 with 1 Axes>"
      ]
     },
     "metadata": {},
     "output_type": "display_data"
    }
   ],
   "source": [
    "plt.hist(gdp_2021['GDP_Per_Capita'],bins=10)\n",
    "plt.title('Distribution of GDP_Per_Capita in 2021')\n",
    "plt.xlabel('GDP_Per_Capita in 2021')\n",
    "plt.ylabel('Frequency')\n",
    "plt.show()"
   ]
  },
  {
   "cell_type": "markdown",
   "id": "48131137-20b2-4608-ac03-a56ba3d6f1ba",
   "metadata": {},
   "source": [
    "**Q12. Find the top 5 counties and bottom 5 countries by GDP per capita in 2021.**"
   ]
  },
  {
   "cell_type": "markdown",
   "id": "fcfc289a-219f-4c98-9eb2-06924ce8a5e2",
   "metadata": {},
   "source": [
    "**Q12. Bottom 5 countries by GDP per capita in 2021.**"
   ]
  },
  {
   "cell_type": "code",
   "execution_count": 67,
   "id": "ed63cb6e-61cd-4ad7-96b1-d693e028a192",
   "metadata": {},
   "outputs": [
    {
     "data": {
      "text/html": [
       "<div>\n",
       "<style scoped>\n",
       "    .dataframe tbody tr th:only-of-type {\n",
       "        vertical-align: middle;\n",
       "    }\n",
       "\n",
       "    .dataframe tbody tr th {\n",
       "        vertical-align: top;\n",
       "    }\n",
       "\n",
       "    .dataframe thead th {\n",
       "        text-align: right;\n",
       "    }\n",
       "</style>\n",
       "<table border=\"1\" class=\"dataframe\">\n",
       "  <thead>\n",
       "    <tr style=\"text-align: right;\">\n",
       "      <th></th>\n",
       "      <th>Country</th>\n",
       "      <th>Year</th>\n",
       "      <th>GDP_Per_Capita</th>\n",
       "    </tr>\n",
       "  </thead>\n",
       "  <tbody>\n",
       "    <tr>\n",
       "      <th>4425</th>\n",
       "      <td>Luxembourg</td>\n",
       "      <td>2021</td>\n",
       "      <td>135379.2912</td>\n",
       "    </tr>\n",
       "    <tr>\n",
       "      <th>6513</th>\n",
       "      <td>Singapore</td>\n",
       "      <td>2021</td>\n",
       "      <td>131864.0923</td>\n",
       "    </tr>\n",
       "    <tr>\n",
       "      <th>3492</th>\n",
       "      <td>Ireland</td>\n",
       "      <td>2021</td>\n",
       "      <td>118594.7469</td>\n",
       "    </tr>\n",
       "    <tr>\n",
       "      <th>6118</th>\n",
       "      <td>Qatar</td>\n",
       "      <td>2021</td>\n",
       "      <td>116832.5703</td>\n",
       "    </tr>\n",
       "    <tr>\n",
       "      <th>740</th>\n",
       "      <td>Bermuda</td>\n",
       "      <td>2021</td>\n",
       "      <td>92276.2346</td>\n",
       "    </tr>\n",
       "  </tbody>\n",
       "</table>\n",
       "</div>"
      ],
      "text/plain": [
       "         Country  Year  GDP_Per_Capita\n",
       "4425  Luxembourg  2021     135379.2912\n",
       "6513   Singapore  2021     131864.0923\n",
       "3492     Ireland  2021     118594.7469\n",
       "6118       Qatar  2021     116832.5703\n",
       "740      Bermuda  2021      92276.2346"
      ]
     },
     "execution_count": 67,
     "metadata": {},
     "output_type": "execute_result"
    }
   ],
   "source": [
    "gdp_2021.nlargest(5, 'GDP_Per_Capita')"
   ]
  },
  {
   "cell_type": "markdown",
   "id": "7ea81aff-20c9-4d0c-8e55-21f14f9e3f8e",
   "metadata": {},
   "source": [
    "**Q12. Bottom 5 countris by GDP_Per_Capita in 2021.**"
   ]
  },
  {
   "cell_type": "code",
   "execution_count": 68,
   "id": "5ca66327-f847-4fbe-bf62-49ea1ec52597",
   "metadata": {},
   "outputs": [
    {
     "data": {
      "text/html": [
       "<div>\n",
       "<style scoped>\n",
       "    .dataframe tbody tr th:only-of-type {\n",
       "        vertical-align: middle;\n",
       "    }\n",
       "\n",
       "    .dataframe tbody tr th {\n",
       "        vertical-align: top;\n",
       "    }\n",
       "\n",
       "    .dataframe thead th {\n",
       "        text-align: right;\n",
       "    }\n",
       "</style>\n",
       "<table border=\"1\" class=\"dataframe\">\n",
       "  <thead>\n",
       "    <tr style=\"text-align: right;\">\n",
       "      <th></th>\n",
       "      <th>Country</th>\n",
       "      <th>Year</th>\n",
       "      <th>GDP_Per_Capita</th>\n",
       "    </tr>\n",
       "  </thead>\n",
       "  <tbody>\n",
       "    <tr>\n",
       "      <th>1045</th>\n",
       "      <td>Burundi</td>\n",
       "      <td>2021</td>\n",
       "      <td>836.665571</td>\n",
       "    </tr>\n",
       "    <tr>\n",
       "      <th>1301</th>\n",
       "      <td>Central African Republic</td>\n",
       "      <td>2021</td>\n",
       "      <td>1128.552380</td>\n",
       "    </tr>\n",
       "    <tr>\n",
       "      <th>1733</th>\n",
       "      <td>Dem. Rep. Congo</td>\n",
       "      <td>2021</td>\n",
       "      <td>1313.618218</td>\n",
       "    </tr>\n",
       "    <tr>\n",
       "      <th>6698</th>\n",
       "      <td>Somalia</td>\n",
       "      <td>2021</td>\n",
       "      <td>1392.464262</td>\n",
       "    </tr>\n",
       "    <tr>\n",
       "      <th>5132</th>\n",
       "      <td>Mozambique</td>\n",
       "      <td>2021</td>\n",
       "      <td>1457.235409</td>\n",
       "    </tr>\n",
       "  </tbody>\n",
       "</table>\n",
       "</div>"
      ],
      "text/plain": [
       "                       Country  Year  GDP_Per_Capita\n",
       "1045                   Burundi  2021      836.665571\n",
       "1301  Central African Republic  2021     1128.552380\n",
       "1733           Dem. Rep. Congo  2021     1313.618218\n",
       "6698                   Somalia  2021     1392.464262\n",
       "5132                Mozambique  2021     1457.235409"
      ]
     },
     "execution_count": 68,
     "metadata": {},
     "output_type": "execute_result"
    }
   ],
   "source": [
    "gdp_2021.nsmallest(5, 'GDP_Per_Capita')"
   ]
  },
  {
   "cell_type": "markdown",
   "id": "4323e319-5e74-49a3-824a-58782a77baeb",
   "metadata": {},
   "source": [
    "**Q13: Now, return to the full dataset, gdp_df. Pivot the data for 1990 and 2021 (using the pandas .pivot_table() method or another method) so that each row corresponds to a country, each column corresponds to a year, and the values in the table give the GDP_Per_Capita amount. Drop any rows that are missing values for either 1990 or 2021. Save the result to a dataframe named gdp_pivoted.**"
   ]
  },
  {
   "cell_type": "code",
   "execution_count": 69,
   "id": "79c13898-fbd2-4e1f-898e-6e123031153f",
   "metadata": {},
   "outputs": [
    {
     "data": {
      "text/html": [
       "<div>\n",
       "<style scoped>\n",
       "    .dataframe tbody tr th:only-of-type {\n",
       "        vertical-align: middle;\n",
       "    }\n",
       "\n",
       "    .dataframe tbody tr th {\n",
       "        vertical-align: top;\n",
       "    }\n",
       "\n",
       "    .dataframe thead th {\n",
       "        text-align: right;\n",
       "    }\n",
       "</style>\n",
       "<table border=\"1\" class=\"dataframe\">\n",
       "  <thead>\n",
       "    <tr style=\"text-align: right;\">\n",
       "      <th>Year</th>\n",
       "      <th>1990</th>\n",
       "      <th>2021</th>\n",
       "    </tr>\n",
       "    <tr>\n",
       "      <th>Country</th>\n",
       "      <th></th>\n",
       "      <th></th>\n",
       "    </tr>\n",
       "  </thead>\n",
       "  <tbody>\n",
       "    <tr>\n",
       "      <th>Afghanistan</th>\n",
       "      <td>NaN</td>\n",
       "      <td>2144.166570</td>\n",
       "    </tr>\n",
       "    <tr>\n",
       "      <th>Africa Eastern and Southern</th>\n",
       "      <td>3386.85448</td>\n",
       "      <td>3934.287267</td>\n",
       "    </tr>\n",
       "  </tbody>\n",
       "</table>\n",
       "</div>"
      ],
      "text/plain": [
       "Year                               1990         2021\n",
       "Country                                             \n",
       "Afghanistan                         NaN  2144.166570\n",
       "Africa Eastern and Southern  3386.85448  3934.287267"
      ]
     },
     "execution_count": 69,
     "metadata": {},
     "output_type": "execute_result"
    }
   ],
   "source": [
    "gdp_filtered = gdp_df[gdp_df['Year'].isin([1990, 2021])]\n",
    "gdp_pivoted = pd.pivot_table(\n",
    "    gdp_filtered,\n",
    "    index='Country',\n",
    "    columns='Year',\n",
    "    values='GDP_Per_Capita',\n",
    "    dropna=True);     \n",
    "gdp_pivoted.head(2)"
   ]
  },
  {
   "cell_type": "markdown",
   "id": "aca77ed1-8c0b-4164-a18d-38215ba544b6",
   "metadata": {},
   "source": [
    "**Q14: Find the countries that had the top 3 largest GDP per capita figures for 2021. Create a seaborn FacetGrid showing the change in life expectancy over time for these three countries. Each individual figure in the facet grid will represent a single country.**"
   ]
  },
  {
   "cell_type": "code",
   "execution_count": 70,
   "id": "f7a3e358-fb55-494e-9f3b-3668af6e02c8",
   "metadata": {},
   "outputs": [
    {
     "data": {
      "text/html": [
       "<div>\n",
       "<style scoped>\n",
       "    .dataframe tbody tr th:only-of-type {\n",
       "        vertical-align: middle;\n",
       "    }\n",
       "\n",
       "    .dataframe tbody tr th {\n",
       "        vertical-align: top;\n",
       "    }\n",
       "\n",
       "    .dataframe thead th {\n",
       "        text-align: right;\n",
       "    }\n",
       "</style>\n",
       "<table border=\"1\" class=\"dataframe\">\n",
       "  <thead>\n",
       "    <tr style=\"text-align: right;\">\n",
       "      <th>Year</th>\n",
       "      <th>1990</th>\n",
       "      <th>2021</th>\n",
       "      <th>Percent_Change</th>\n",
       "    </tr>\n",
       "    <tr>\n",
       "      <th>Country</th>\n",
       "      <th></th>\n",
       "      <th></th>\n",
       "      <th></th>\n",
       "    </tr>\n",
       "  </thead>\n",
       "  <tbody>\n",
       "    <tr>\n",
       "      <th>Afghanistan</th>\n",
       "      <td>NaN</td>\n",
       "      <td>2144.166570</td>\n",
       "      <td>NaN</td>\n",
       "    </tr>\n",
       "    <tr>\n",
       "      <th>Africa Eastern and Southern</th>\n",
       "      <td>3386.854480</td>\n",
       "      <td>3934.287267</td>\n",
       "      <td>16.163458</td>\n",
       "    </tr>\n",
       "    <tr>\n",
       "      <th>Africa Western and Central</th>\n",
       "      <td>3299.401375</td>\n",
       "      <td>4698.926894</td>\n",
       "      <td>42.417559</td>\n",
       "    </tr>\n",
       "    <tr>\n",
       "      <th>Albania</th>\n",
       "      <td>5327.747458</td>\n",
       "      <td>16113.136520</td>\n",
       "      <td>202.438069</td>\n",
       "    </tr>\n",
       "    <tr>\n",
       "      <th>Algeria</th>\n",
       "      <td>11728.545730</td>\n",
       "      <td>14496.865470</td>\n",
       "      <td>23.603265</td>\n",
       "    </tr>\n",
       "  </tbody>\n",
       "</table>\n",
       "</div>"
      ],
      "text/plain": [
       "Year                                 1990          2021  Percent_Change\n",
       "Country                                                                \n",
       "Afghanistan                           NaN   2144.166570             NaN\n",
       "Africa Eastern and Southern   3386.854480   3934.287267       16.163458\n",
       "Africa Western and Central    3299.401375   4698.926894       42.417559\n",
       "Albania                       5327.747458  16113.136520      202.438069\n",
       "Algeria                      11728.545730  14496.865470       23.603265"
      ]
     },
     "execution_count": 70,
     "metadata": {},
     "output_type": "execute_result"
    }
   ],
   "source": [
    "gdp_pivoted['Percent_Change'] = 100 * (gdp_pivoted[2021] - gdp_pivoted[1990]) / gdp_pivoted[1990]\n",
    "gdp_pivoted.head(5)"
   ]
  },
  {
   "cell_type": "markdown",
   "id": "c0e828bd-ac9b-42d9-a849-0d6914801b09",
   "metadata": {},
   "source": [
    "Q15: How many countries experienced a negative percent change in GDP per capita from 1990 to 2021?"
   ]
  },
  {
   "cell_type": "code",
   "execution_count": 71,
   "id": "5b0fc373-5dc3-4dd9-8b8c-b706e314e740",
   "metadata": {},
   "outputs": [
    {
     "name": "stdout",
     "output_type": "stream",
     "text": [
      "Number of countries with negative percent change in GDP per capita from 1990 to 2021: 23\n"
     ]
    }
   ],
   "source": [
    "negative_change_count = (gdp_pivoted['Percent_Change'] < 0).sum()\n",
    "print(f'Number of countries with negative percent change in GDP per capita from 1990 to 2021: {negative_change_count}')"
   ]
  },
  {
   "cell_type": "markdown",
   "id": "fa9920ee-6bd0-4d42-a0f3-f4a028448b76",
   "metadata": {},
   "source": [
    "**Q16: Which country had the highest % change in GDP per capita? Create a line plot showing this country's GDP per capita for all years from 1990 to 2018. Create another showing the country with the second highest % change in GDP. How do the trends in these countries compare?\n",
    "Bonus: Put both line charts on the same plot.**"
   ]
  },
  {
   "cell_type": "code",
   "execution_count": 72,
   "id": "a47572a0-3bd3-478e-af68-6ef9a5e0429f",
   "metadata": {},
   "outputs": [
    {
     "data": {
      "image/png": "[encoded data removed]",
      "text/plain": [
       "<Figure size 1000x600 with 1 Axes>"
      ]
     },
     "metadata": {},
     "output_type": "display_data"
    }
   ],
   "source": [
    "top_countries = gdp_pivoted.nlargest(2, 'Percent_Change').index\n",
    "\n",
    "gdp_plot_df = gdp_df[\n",
    "    (gdp_df['Country'].isin(top_countries)) & (gdp_df['Year']).between(1990, 2018)].copy()\n",
    "\n",
    "plt.figure(figsize=(10, 6))\n",
    "\n",
    "sns.lineplot(\n",
    "    data=gdp_plot_df,\n",
    "    x='Year',\n",
    "    y='GDP_Per_Capita',\n",
    "    hue='Country');   \n",
    "    \n",
    "plt.title(f'GDP Per Capita Trend (1990-2018)')\n",
    "plt.xlabel('Year')\n",
    "plt.ylabel('GDP Per Capita')\n",
    "plt.grid(True)\n",
    "plt.legend(title='Country')\n",
    "plt.show()\n"
   ]
  },
  {
   "cell_type": "markdown",
   "id": "eafc6cc3-3418-4035-94b1-45952e0dbe3b",
   "metadata": {},
   "source": [
    "**Q17: Read in continents.csv contained in the data folder into a new dataframe called continents. We will be using this dataframe to add a new column to our dataset.**"
   ]
  },
  {
   "cell_type": "code",
   "execution_count": 73,
   "id": "2de7bb1b-9385-4d3d-896d-bd5a787a531f",
   "metadata": {},
   "outputs": [
    {
     "data": {
      "text/html": [
       "<div>\n",
       "<style scoped>\n",
       "    .dataframe tbody tr th:only-of-type {\n",
       "        vertical-align: middle;\n",
       "    }\n",
       "\n",
       "    .dataframe tbody tr th {\n",
       "        vertical-align: top;\n",
       "    }\n",
       "\n",
       "    .dataframe thead th {\n",
       "        text-align: right;\n",
       "    }\n",
       "</style>\n",
       "<table border=\"1\" class=\"dataframe\">\n",
       "  <thead>\n",
       "    <tr style=\"text-align: right;\">\n",
       "      <th></th>\n",
       "      <th>Continent</th>\n",
       "      <th>Country</th>\n",
       "    </tr>\n",
       "  </thead>\n",
       "  <tbody>\n",
       "    <tr>\n",
       "      <th>0</th>\n",
       "      <td>Asia</td>\n",
       "      <td>Afghanistan</td>\n",
       "    </tr>\n",
       "    <tr>\n",
       "      <th>1</th>\n",
       "      <td>Europe</td>\n",
       "      <td>Albania</td>\n",
       "    </tr>\n",
       "  </tbody>\n",
       "</table>\n",
       "</div>"
      ],
      "text/plain": [
       "  Continent      Country\n",
       "0      Asia  Afghanistan\n",
       "1    Europe      Albania"
      ]
     },
     "execution_count": 73,
     "metadata": {},
     "output_type": "execute_result"
    }
   ],
   "source": [
    "continents = pd.read_csv(\"data/continents.csv\")\n",
    "continents.head(2)"
   ]
  },
  {
   "cell_type": "markdown",
   "id": "5aab61f9-82a2-4ce9-8c55-f029248644ff",
   "metadata": {},
   "source": [
    "**Q18: Merge gdp_df and continents. Keep only the countries that appear in both data frames. Save the result back to gdp_df.**"
   ]
  },
  {
   "cell_type": "code",
   "execution_count": 74,
   "id": "bfa9047a-f626-49ed-90e0-ad7f3e1c31ac",
   "metadata": {},
   "outputs": [
    {
     "data": {
      "text/html": [
       "<div>\n",
       "<style scoped>\n",
       "    .dataframe tbody tr th:only-of-type {\n",
       "        vertical-align: middle;\n",
       "    }\n",
       "\n",
       "    .dataframe tbody tr th {\n",
       "        vertical-align: top;\n",
       "    }\n",
       "\n",
       "    .dataframe thead th {\n",
       "        text-align: right;\n",
       "    }\n",
       "</style>\n",
       "<table border=\"1\" class=\"dataframe\">\n",
       "  <thead>\n",
       "    <tr style=\"text-align: right;\">\n",
       "      <th></th>\n",
       "      <th>Country</th>\n",
       "      <th>Year</th>\n",
       "      <th>GDP_Per_Capita</th>\n",
       "      <th>Continent</th>\n",
       "    </tr>\n",
       "  </thead>\n",
       "  <tbody>\n",
       "    <tr>\n",
       "      <th>0</th>\n",
       "      <td>Afghanistan</td>\n",
       "      <td>2023</td>\n",
       "      <td>1992.424394</td>\n",
       "      <td>Asia</td>\n",
       "    </tr>\n",
       "    <tr>\n",
       "      <th>1</th>\n",
       "      <td>Afghanistan</td>\n",
       "      <td>2022</td>\n",
       "      <td>1981.710168</td>\n",
       "      <td>Asia</td>\n",
       "    </tr>\n",
       "    <tr>\n",
       "      <th>2</th>\n",
       "      <td>Afghanistan</td>\n",
       "      <td>2021</td>\n",
       "      <td>2144.166570</td>\n",
       "      <td>Asia</td>\n",
       "    </tr>\n",
       "    <tr>\n",
       "      <th>3</th>\n",
       "      <td>Afghanistan</td>\n",
       "      <td>2020</td>\n",
       "      <td>2769.685745</td>\n",
       "      <td>Asia</td>\n",
       "    </tr>\n",
       "    <tr>\n",
       "      <th>4</th>\n",
       "      <td>Afghanistan</td>\n",
       "      <td>2019</td>\n",
       "      <td>2927.245144</td>\n",
       "      <td>Asia</td>\n",
       "    </tr>\n",
       "  </tbody>\n",
       "</table>\n",
       "</div>"
      ],
      "text/plain": [
       "       Country  Year  GDP_Per_Capita Continent\n",
       "0  Afghanistan  2023     1992.424394      Asia\n",
       "1  Afghanistan  2022     1981.710168      Asia\n",
       "2  Afghanistan  2021     2144.166570      Asia\n",
       "3  Afghanistan  2020     2769.685745      Asia\n",
       "4  Afghanistan  2019     2927.245144      Asia"
      ]
     },
     "execution_count": 74,
     "metadata": {},
     "output_type": "execute_result"
    }
   ],
   "source": [
    "gdp_df = pd.merge(\n",
    "    left= gdp_df,\n",
    "    right= continents,\n",
    "    how='inner',\n",
    "    validate = 'many_to_one'\n",
    ");\n",
    "gdp_df.head(5)"
   ]
  },
  {
   "cell_type": "markdown",
   "id": "52251910-65f8-4359-b497-12c7576967ed",
   "metadata": {},
   "source": [
    "**Q19: Determine the number of countries per continent.** "
   ]
  },
  {
   "cell_type": "code",
   "execution_count": 75,
   "id": "e8c214b0-0d27-4320-8b52-f0a4dfbf222d",
   "metadata": {},
   "outputs": [
    {
     "data": {
      "text/plain": [
       "Continent\n",
       "Africa           50\n",
       "Asia             41\n",
       "Europe           45\n",
       "North America    26\n",
       "Oceania          14\n",
       "South America    11\n",
       "Name: count, dtype: int64"
      ]
     },
     "execution_count": 75,
     "metadata": {},
     "output_type": "execute_result"
    }
   ],
   "source": [
    "gdp_df.drop_duplicates(subset = ['Country', 'Continent'])['Continent'].value_counts().sort_index()"
   ]
  },
  {
   "cell_type": "markdown",
   "id": "8ef8b9af-5317-4b9a-a887-1a38c207b612",
   "metadata": {},
   "source": [
    "**Q19: Create a bar chart showing the number of countries per continent.**"
   ]
  },
  {
   "cell_type": "code",
   "execution_count": 76,
   "id": "1b1bd8f6-0652-4dd9-af00-ac6c2141d83b",
   "metadata": {
    "scrolled": true
   },
   "outputs": [
    {
     "data": {
      "image/png": "[encoded data removed]",
      "text/plain": [
       "<Figure size 640x480 with 1 Axes>"
      ]
     },
     "metadata": {},
     "output_type": "display_data"
    }
   ],
   "source": [
    "gdp_df.drop_duplicates(subset = ['Country', 'Continent'])['Continent'].value_counts().sort_index().plot(kind='bar')\n",
    "plt.xlabel('Continent')\n",
    "plt.ylabel('Number of Countries')\n",
    "plt.title('Number of Countries per Continent')\n",
    "plt.show()\n"
   ]
  },
  {
   "cell_type": "markdown",
   "id": "826c449f-81e2-4495-84cc-ac17320db7a5",
   "metadata": {},
   "source": [
    "**Q20: Create a seaborn boxplot showing GDP per capita in 2021 split out by continent. What do you notice?**\n",
    "\n",
    "**Comment**: \"I noticed that life expectancy is typically right-skewed in most countries, except for those in Europe. Furthermore, the data from South America revealed no outliers when compared to other regions."
   ]
  },
  {
   "cell_type": "code",
   "execution_count": 77,
   "id": "0455a63f-ecce-4759-94bf-557d419cb4e7",
   "metadata": {},
   "outputs": [
    {
     "data": {
      "image/png": "[encoded data removed]",
      "text/plain": [
       "<Figure size 640x480 with 1 Axes>"
      ]
     },
     "metadata": {},
     "output_type": "display_data"
    }
   ],
   "source": [
    "sns.boxplot(data = gdp_df[gdp_df['Year'] == 2021].sort_values('Continent'), x='GDP_Per_Capita', y='Continent');\n",
    "plt.title('GDP Per Capita by Continent in 2021')\n",
    "plt.xlabel('Continent')\n",
    "plt.ylabel('GDP Per Capita (USD)')\n",
    "plt.show()"
   ]
  },
  {
   "cell_type": "markdown",
   "id": "8ef7f4e2-6074-4112-9e61-31987f5fec03",
   "metadata": {},
   "source": [
    "**Q21: Download the full csv containing Life expectancy at birth, total (years) from https://data.worldbank.org/indicator/SP.DYN.LE00.IN?name_desc=false. Read this data into a DataFrame named life_expectancy. Note: When reading this dataset it, you may encounter an error. Modify your read_csv call to correct this without modifying the original csv file.**"
   ]
  },
  {
   "cell_type": "code",
   "execution_count": 78,
   "id": "5171da9a-c826-4445-a9cf-48527d5bc95c",
   "metadata": {},
   "outputs": [
    {
     "data": {
      "text/html": [
       "<div>\n",
       "<style scoped>\n",
       "    .dataframe tbody tr th:only-of-type {\n",
       "        vertical-align: middle;\n",
       "    }\n",
       "\n",
       "    .dataframe tbody tr th {\n",
       "        vertical-align: top;\n",
       "    }\n",
       "\n",
       "    .dataframe thead th {\n",
       "        text-align: right;\n",
       "    }\n",
       "</style>\n",
       "<table border=\"1\" class=\"dataframe\">\n",
       "  <thead>\n",
       "    <tr style=\"text-align: right;\">\n",
       "      <th></th>\n",
       "      <th>Country Name</th>\n",
       "      <th>Country Code</th>\n",
       "      <th>Indicator Name</th>\n",
       "      <th>Indicator Code</th>\n",
       "      <th>1960</th>\n",
       "      <th>1961</th>\n",
       "      <th>1962</th>\n",
       "      <th>1963</th>\n",
       "      <th>1964</th>\n",
       "      <th>1965</th>\n",
       "      <th>...</th>\n",
       "      <th>2016</th>\n",
       "      <th>2017</th>\n",
       "      <th>2018</th>\n",
       "      <th>2019</th>\n",
       "      <th>2020</th>\n",
       "      <th>2021</th>\n",
       "      <th>2022</th>\n",
       "      <th>2023</th>\n",
       "      <th>2024</th>\n",
       "      <th>Unnamed: 69</th>\n",
       "    </tr>\n",
       "  </thead>\n",
       "  <tbody>\n",
       "    <tr>\n",
       "      <th>0</th>\n",
       "      <td>Aruba</td>\n",
       "      <td>ABW</td>\n",
       "      <td>Life expectancy at birth, total (years)</td>\n",
       "      <td>SP.DYN.LE00.IN</td>\n",
       "      <td>64.049000</td>\n",
       "      <td>64.215000</td>\n",
       "      <td>64.60200</td>\n",
       "      <td>64.944000</td>\n",
       "      <td>65.303000</td>\n",
       "      <td>65.615000</td>\n",
       "      <td>...</td>\n",
       "      <td>75.540000</td>\n",
       "      <td>75.620000</td>\n",
       "      <td>75.880000</td>\n",
       "      <td>76.019000</td>\n",
       "      <td>75.406000</td>\n",
       "      <td>73.655000</td>\n",
       "      <td>76.22600</td>\n",
       "      <td>76.353000</td>\n",
       "      <td>NaN</td>\n",
       "      <td>NaN</td>\n",
       "    </tr>\n",
       "    <tr>\n",
       "      <th>1</th>\n",
       "      <td>Africa Eastern and Southern</td>\n",
       "      <td>AFE</td>\n",
       "      <td>Life expectancy at birth, total (years)</td>\n",
       "      <td>SP.DYN.LE00.IN</td>\n",
       "      <td>44.169658</td>\n",
       "      <td>44.468838</td>\n",
       "      <td>44.87789</td>\n",
       "      <td>45.160583</td>\n",
       "      <td>45.535695</td>\n",
       "      <td>45.770723</td>\n",
       "      <td>...</td>\n",
       "      <td>62.167981</td>\n",
       "      <td>62.591275</td>\n",
       "      <td>63.330691</td>\n",
       "      <td>63.857261</td>\n",
       "      <td>63.766484</td>\n",
       "      <td>62.979999</td>\n",
       "      <td>64.48702</td>\n",
       "      <td>65.146291</td>\n",
       "      <td>NaN</td>\n",
       "      <td>NaN</td>\n",
       "    </tr>\n",
       "  </tbody>\n",
       "</table>\n",
       "<p>2 rows × 70 columns</p>\n",
       "</div>"
      ],
      "text/plain": [
       "                  Country Name Country Code  \\\n",
       "0                        Aruba          ABW   \n",
       "1  Africa Eastern and Southern          AFE   \n",
       "\n",
       "                            Indicator Name  Indicator Code       1960  \\\n",
       "0  Life expectancy at birth, total (years)  SP.DYN.LE00.IN  64.049000   \n",
       "1  Life expectancy at birth, total (years)  SP.DYN.LE00.IN  44.169658   \n",
       "\n",
       "        1961      1962       1963       1964       1965  ...       2016  \\\n",
       "0  64.215000  64.60200  64.944000  65.303000  65.615000  ...  75.540000   \n",
       "1  44.468838  44.87789  45.160583  45.535695  45.770723  ...  62.167981   \n",
       "\n",
       "        2017       2018       2019       2020       2021      2022       2023  \\\n",
       "0  75.620000  75.880000  76.019000  75.406000  73.655000  76.22600  76.353000   \n",
       "1  62.591275  63.330691  63.857261  63.766484  62.979999  64.48702  65.146291   \n",
       "\n",
       "   2024  Unnamed: 69  \n",
       "0   NaN          NaN  \n",
       "1   NaN          NaN  \n",
       "\n",
       "[2 rows x 70 columns]"
      ]
     },
     "execution_count": 78,
     "metadata": {},
     "output_type": "execute_result"
    }
   ],
   "source": [
    "life_expectancy = pd.read_csv('data/API_SP.DYN.LE00.IN_DS2_en_csv_v2_22997.csv', skiprows=4)\n",
    "life_expectancy.head(2)"
   ]
  },
  {
   "cell_type": "markdown",
   "id": "6e93628f-d28f-4cd4-8896-66cdc4784f0a",
   "metadata": {},
   "source": [
    "**Q22: Drop the Country Code, Indicator Name, and Indicator Code columns. Then use .melt() to convert your data from wide to long. That is, instead of having one row per country and multiple colums per year, we want to have multiple rows per country and a single column for year. After melting, rename the columns to Country, Year, and Life_Expectancy.**"
   ]
  },
  {
   "cell_type": "code",
   "execution_count": 79,
   "id": "810bc159-69ab-43f8-9322-1f34f66ece67",
   "metadata": {},
   "outputs": [
    {
     "data": {
      "text/html": [
       "<div>\n",
       "<style scoped>\n",
       "    .dataframe tbody tr th:only-of-type {\n",
       "        vertical-align: middle;\n",
       "    }\n",
       "\n",
       "    .dataframe tbody tr th {\n",
       "        vertical-align: top;\n",
       "    }\n",
       "\n",
       "    .dataframe thead th {\n",
       "        text-align: right;\n",
       "    }\n",
       "</style>\n",
       "<table border=\"1\" class=\"dataframe\">\n",
       "  <thead>\n",
       "    <tr style=\"text-align: right;\">\n",
       "      <th></th>\n",
       "      <th>Country</th>\n",
       "      <th>Year</th>\n",
       "      <th>Life_Expectancy</th>\n",
       "    </tr>\n",
       "  </thead>\n",
       "  <tbody>\n",
       "    <tr>\n",
       "      <th>0</th>\n",
       "      <td>Aruba</td>\n",
       "      <td>1960</td>\n",
       "      <td>64.049000</td>\n",
       "    </tr>\n",
       "    <tr>\n",
       "      <th>1</th>\n",
       "      <td>Africa Eastern and Southern</td>\n",
       "      <td>1960</td>\n",
       "      <td>44.169658</td>\n",
       "    </tr>\n",
       "    <tr>\n",
       "      <th>2</th>\n",
       "      <td>Afghanistan</td>\n",
       "      <td>1960</td>\n",
       "      <td>32.799000</td>\n",
       "    </tr>\n",
       "    <tr>\n",
       "      <th>3</th>\n",
       "      <td>Africa Western and Central</td>\n",
       "      <td>1960</td>\n",
       "      <td>37.779636</td>\n",
       "    </tr>\n",
       "    <tr>\n",
       "      <th>4</th>\n",
       "      <td>Angola</td>\n",
       "      <td>1960</td>\n",
       "      <td>37.933000</td>\n",
       "    </tr>\n",
       "  </tbody>\n",
       "</table>\n",
       "</div>"
      ],
      "text/plain": [
       "                       Country  Year  Life_Expectancy\n",
       "0                        Aruba  1960        64.049000\n",
       "1  Africa Eastern and Southern  1960        44.169658\n",
       "2                  Afghanistan  1960        32.799000\n",
       "3   Africa Western and Central  1960        37.779636\n",
       "4                       Angola  1960        37.933000"
      ]
     },
     "execution_count": 79,
     "metadata": {},
     "output_type": "execute_result"
    }
   ],
   "source": [
    "life_expectancy = (\n",
    "    life_expectancy\n",
    "                   .drop(columns=['Country Code', 'Indicator Name', 'Indicator Code', 'Unnamed: 69'])\n",
    "                   .melt(id_vars='Country Name', var_name='Year', value_name='Life_Expectancy')\n",
    "                   .rename(columns={'Country Name': 'Country'})\n",
    ")\n",
    "life_expectancy.head(5)"
   ]
  },
  {
   "cell_type": "markdown",
   "id": "561ff18f-adfa-499c-adf9-0a62a8612372",
   "metadata": {},
   "source": [
    "**Q23: What was the first country with a life expectancy to exceed 80?**"
   ]
  },
  {
   "cell_type": "code",
   "execution_count": 80,
   "id": "44192b3d-6e4f-4ca3-8c78-3de9c96edcb7",
   "metadata": {},
   "outputs": [
    {
     "name": "stdout",
     "output_type": "stream",
     "text": [
      "The first country with a life expectancy to exceed 80 was Monaco.\n"
     ]
    }
   ],
   "source": [
    "first_country = life_expectancy.loc[life_expectancy['Life_Expectancy'] >= 80].iloc[0]['Country']\n",
    "print(f\"The first country with a life expectancy to exceed 80 was {first_country}.\")\n"
   ]
  },
  {
   "cell_type": "markdown",
   "id": "c706534b-45d3-4803-9d0e-6a825ac5b47a",
   "metadata": {},
   "source": [
    "**Q24: Merge gdp_df and life_expectancy, keeping all countries and years that appear in both DataFrames. Save the result to a new DataFrame named gdp_le. If you get any errors in doing this, read them carefully and correct them. Look at the first five rows of your new data frame to confirm it merged correctly. Also, check the last five rows to make sure the data is clean and as expected.**"
   ]
  },
  {
   "cell_type": "code",
   "execution_count": 81,
   "id": "636d94a4-d6e6-4bd5-a0bc-328d08d282ea",
   "metadata": {},
   "outputs": [],
   "source": [
    "life_expectancy['Year'] = pd.to_numeric(life_expectancy['Year'], errors='coerce')"
   ]
  },
  {
   "cell_type": "code",
   "execution_count": 82,
   "id": "75818b6a-87c0-4e67-bcfe-e46e8dd69089",
   "metadata": {},
   "outputs": [
    {
     "name": "stdout",
     "output_type": "stream",
     "text": [
      "<class 'pandas.core.frame.DataFrame'>\n",
      "RangeIndex: 17290 entries, 0 to 17289\n",
      "Data columns (total 3 columns):\n",
      " #   Column           Non-Null Count  Dtype  \n",
      "---  ------           --------------  -----  \n",
      " 0   Country          17290 non-null  object \n",
      " 1   Year             17290 non-null  int64  \n",
      " 2   Life_Expectancy  16926 non-null  float64\n",
      "dtypes: float64(1), int64(1), object(1)\n",
      "memory usage: 405.4+ KB\n"
     ]
    }
   ],
   "source": [
    "life_expectancy.info()"
   ]
  },
  {
   "cell_type": "code",
   "execution_count": 83,
   "id": "9d4e9198-4a4a-413f-bc2d-db38dba380b0",
   "metadata": {},
   "outputs": [
    {
     "data": {
      "text/html": [
       "<div>\n",
       "<style scoped>\n",
       "    .dataframe tbody tr th:only-of-type {\n",
       "        vertical-align: middle;\n",
       "    }\n",
       "\n",
       "    .dataframe tbody tr th {\n",
       "        vertical-align: top;\n",
       "    }\n",
       "\n",
       "    .dataframe thead th {\n",
       "        text-align: right;\n",
       "    }\n",
       "</style>\n",
       "<table border=\"1\" class=\"dataframe\">\n",
       "  <thead>\n",
       "    <tr style=\"text-align: right;\">\n",
       "      <th></th>\n",
       "      <th>Country</th>\n",
       "      <th>Year</th>\n",
       "      <th>GDP_Per_Capita</th>\n",
       "      <th>Continent</th>\n",
       "      <th>Life_Expectancy</th>\n",
       "    </tr>\n",
       "  </thead>\n",
       "  <tbody>\n",
       "    <tr>\n",
       "      <th>0</th>\n",
       "      <td>Afghanistan</td>\n",
       "      <td>2023</td>\n",
       "      <td>1992.424394</td>\n",
       "      <td>Asia</td>\n",
       "      <td>66.035</td>\n",
       "    </tr>\n",
       "    <tr>\n",
       "      <th>1</th>\n",
       "      <td>Afghanistan</td>\n",
       "      <td>2022</td>\n",
       "      <td>1981.710168</td>\n",
       "      <td>Asia</td>\n",
       "      <td>65.617</td>\n",
       "    </tr>\n",
       "    <tr>\n",
       "      <th>2</th>\n",
       "      <td>Afghanistan</td>\n",
       "      <td>2021</td>\n",
       "      <td>2144.166570</td>\n",
       "      <td>Asia</td>\n",
       "      <td>60.417</td>\n",
       "    </tr>\n",
       "    <tr>\n",
       "      <th>3</th>\n",
       "      <td>Afghanistan</td>\n",
       "      <td>2020</td>\n",
       "      <td>2769.685745</td>\n",
       "      <td>Asia</td>\n",
       "      <td>61.454</td>\n",
       "    </tr>\n",
       "    <tr>\n",
       "      <th>4</th>\n",
       "      <td>Afghanistan</td>\n",
       "      <td>2019</td>\n",
       "      <td>2927.245144</td>\n",
       "      <td>Asia</td>\n",
       "      <td>62.941</td>\n",
       "    </tr>\n",
       "  </tbody>\n",
       "</table>\n",
       "</div>"
      ],
      "text/plain": [
       "       Country  Year  GDP_Per_Capita Continent  Life_Expectancy\n",
       "0  Afghanistan  2023     1992.424394      Asia           66.035\n",
       "1  Afghanistan  2022     1981.710168      Asia           65.617\n",
       "2  Afghanistan  2021     2144.166570      Asia           60.417\n",
       "3  Afghanistan  2020     2769.685745      Asia           61.454\n",
       "4  Afghanistan  2019     2927.245144      Asia           62.941"
      ]
     },
     "execution_count": 83,
     "metadata": {},
     "output_type": "execute_result"
    }
   ],
   "source": [
    "gdp_le = pd.merge(left = gdp_df, \n",
    "                  right = life_expectancy, \n",
    "                  validate='one_to_one',\n",
    "                  );\n",
    "gdp_le.head(5)"
   ]
  },
  {
   "cell_type": "markdown",
   "id": "1df935c9-5c3e-47c4-8105-7a99a206d007",
   "metadata": {},
   "source": [
    "**Q25: Create a new DataFrame, named gdp_le_2021 by extracting data for the year 2021 from gdp_le. How many countries have a life expectancy of at least 80 in 2021?**"
   ]
  },
  {
   "cell_type": "code",
   "execution_count": 84,
   "id": "b9dffdc4-23b5-44b1-b4d7-976f068ba490",
   "metadata": {},
   "outputs": [
    {
     "data": {
      "text/plain": [
       "Country\n",
       "Andorra                 30\n",
       "Japan                   28\n",
       "Hong Kong SAR, China    27\n",
       "San Marino              24\n",
       "Macao SAR, China        24\n",
       "Iceland                 23\n",
       "Switzerland             23\n",
       "Italy                   22\n",
       "Australia               21\n",
       "Sweden                  21\n",
       "Israel                  20\n",
       "France                  20\n",
       "Norway                  19\n",
       "United Arab Emirates    19\n",
       "Spain                   19\n",
       "Canada                  19\n",
       "Singapore               18\n",
       "New Zealand             18\n",
       "Austria                 17\n",
       "Netherlands             17\n",
       "Ireland                 16\n",
       "Luxembourg              16\n",
       "Belgium                 15\n",
       "United Kingdom          15\n",
       "Malta                   15\n",
       "Cyprus                  15\n",
       "Greece                  15\n",
       "Finland                 13\n",
       "Germany                 13\n",
       "Portugal                13\n",
       "Qatar                   12\n",
       "Denmark                 12\n",
       "Slovenia                12\n",
       "Bermuda                 11\n",
       "Bahrain                  8\n",
       "Costa Rica               6\n",
       "Chile                    6\n",
       "Kuwait                   4\n",
       "Maldives                 2\n",
       "Cayman Islands           1\n",
       "Oman                     1\n",
       "Name: count, dtype: int64"
      ]
     },
     "execution_count": 84,
     "metadata": {},
     "output_type": "execute_result"
    }
   ],
   "source": [
    "gdp_le_2021 = gdp_le[gdp_le['Year']==2021].copy()\n",
    "gdp_le_2021_least = gdp_le[gdp_le['Life_Expectancy']>=80]['Country'].value_counts()\n",
    "gdp_le_2021_least"
   ]
  },
  {
   "cell_type": "markdown",
   "id": "d83e6020-2b40-431b-9186-ad209be9003d",
   "metadata": {},
   "source": [
    "**Q26. Find the countries that had the top 3 largest GDP per capita figures for 2021. Create a seaborn FacetGrid showing the change in life expectancy over time for these three countries. Each individual figure in the facet grid will represent a single country.**"
   ]
  },
  {
   "cell_type": "code",
   "execution_count": 85,
   "id": "7f9fa13b-d001-4678-8a48-a703c6f4f847",
   "metadata": {},
   "outputs": [
    {
     "data": {
      "image/png": "[encoded data removed]",
      "text/plain": [
       "<Figure size 900x300 with 3 Axes>"
      ]
     },
     "metadata": {},
     "output_type": "display_data"
    }
   ],
   "source": [
    "top_3_countries = gdp_le_2021.nlargest(3, 'GDP_Per_Capita')['Country'].tolist()\n",
    "g = sns.FacetGrid(gdp_le[gdp_le['Country'].isin(top_3_countries)], col='Country')\n",
    "g.map(sns.scatterplot, 'Year', 'Life_Expectancy', color='red', marker='o')\n",
    "g.set_titles(col_template=\"{col_name}\")\n",
    "g.set_axis_labels(\"Year\", \"Life_Expectancy\")\n",
    "plt.show()"
   ]
  },
  {
   "cell_type": "markdown",
   "id": "32f2f882-7f3a-4ef0-8007-d5f2357d9ec0",
   "metadata": {},
   "source": [
    "**Q27: Create a scatter plot of Life Expectancy vs GDP per Capita for the year 2021. What do you notice?**\n",
    "\n",
    "**Comment**: There is a positive correlation between GDP per capita and life expectancy; as GDP per capita rises, life expectancy tends to increase as well.\n",
    "\n"
   ]
  },
  {
   "cell_type": "code",
   "execution_count": 86,
   "id": "325d621c-27bd-43ed-9323-823dcff5ee6d",
   "metadata": {},
   "outputs": [
    {
     "data": {
      "image/png": "[encoded data removed]",
      "text/plain": [
       "<Figure size 1000x600 with 1 Axes>"
      ]
     },
     "metadata": {},
     "output_type": "display_data"
    }
   ],
   "source": [
    "plt.figure(figsize=(10, 6))\n",
    "sns.scatterplot(data = gdp_le_2021, x='GDP_Per_Capita', y='Life_Expectancy')\n",
    "plt.title('Life Expectancy vs. GDP Per Capita(2021)')\n",
    "plt.xlabel('GDP Per Capita')\n",
    "plt.ylabel('Life Expectancy')\n",
    "plt.grid(True)\n",
    "plt.show()"
   ]
  },
  {
   "cell_type": "markdown",
   "id": "1980330c-5640-4b06-b1f2-fe24e6723cb1",
   "metadata": {},
   "source": [
    "**Q28: Find the correlation between Life Expectancy and GDP per Capita for the year 2021. What is the meaning of this number?**\n",
    "\n",
    "**Comment**: A correlation of 0.75 suggests that as GDP per Capita increases, Life Expectancy tends to increase as well. This implies that wealthier economies, which have a higher GDP per Capita, often provide better living conditions including healthcare, and resources that contribute to longer life spans."
   ]
  },
  {
   "cell_type": "code",
   "execution_count": 87,
   "id": "ed019b7a-87fb-407a-be0e-f585a3e069c0",
   "metadata": {},
   "outputs": [
    {
     "name": "stdout",
     "output_type": "stream",
     "text": [
      "The correlation between Life Expectancy and GDP per Capita for the year 2021 is: 0.7527849922698688\n"
     ]
    }
   ],
   "source": [
    "correlation = gdp_le_2021[['Life_Expectancy', 'GDP_Per_Capita']].corr().iloc[0, 1]\n",
    "print(f\"The correlation between Life Expectancy and GDP per Capita for the year 2021 is: {correlation}\")"
   ]
  },
  {
   "cell_type": "markdown",
   "id": "3635b710-dae9-488d-92f7-934c9f044750",
   "metadata": {},
   "source": [
    "**Q29: Add a column to gdp_le_2021 and calculate the logarithm of GDP per capita. Find the correlation between the log of GDP per capita and life expectancy. How does this compare to the calculation in the previous part? Look at a scatter plot to see if the result of this calculation makes sense.**\n",
    "\n",
    "**Comment**: In this analysis, I found a linear correlation between life expectancy and the logarithm of GDP per capita, which supports the earlier findings that indicate a positive relationship between increased GDP per capita and life expectancy."
   ]
  },
  {
   "cell_type": "code",
   "execution_count": 88,
   "id": "4b36b2dd-e2f7-472e-ac2c-6a47496fb189",
   "metadata": {},
   "outputs": [
    {
     "name": "stdout",
     "output_type": "stream",
     "text": [
      "The correlation between Life Expectancy and Log of GDP per Capita for the year 2021 is: 0.8490647859477234\n"
     ]
    },
    {
     "data": {
      "image/png": "[encoded data removed]",
      "text/plain": [
       "<Figure size 1000x600 with 1 Axes>"
      ]
     },
     "metadata": {},
     "output_type": "display_data"
    }
   ],
   "source": [
    "gdp_le_2021.loc[:, 'Log_GDP_Per_Capita'] = np.log(gdp_le_2021['GDP_Per_Capita'])\n",
    "correlation_log = gdp_le_2021[['Life_Expectancy', 'Log_GDP_Per_Capita']].corr().iloc[0, 1]\n",
    "print(f\"The correlation between Life Expectancy and Log of GDP per Capita for the year 2021 is: {correlation_log}\")\n",
    "\n",
    "plt.figure(figsize=(10, 6))\n",
    "plt.scatter(gdp_le_2021['Log_GDP_Per_Capita'], gdp_le_2021['Life_Expectancy'])\n",
    "plt.title('Scatter Plot of Life Expectancy vs. Log of GDP per Capita (2021)')\n",
    "plt.xlabel('Log of GDP per Capita')\n",
    "plt.ylabel('Life Expectancy')\n",
    "plt.grid(True)\n",
    "plt.show() \n"
   ]
  }
 ],
 "metadata": {
  "kernelspec": {
   "display_name": "Python 3 (ipykernel)",
   "language": "python",
   "name": "python3"
  },
  "language_info": {
   "codemirror_mode": {
    "name": "ipython",
    "version": 3
   },
   "file_extension": ".py",
   "mimetype": "text/x-python",
   "name": "python",
   "nbconvert_exporter": "python",
   "pygments_lexer": "ipython3",
   "version": "3.13.5"
  }
 },
 "nbformat": 4,
 "nbformat_minor": 5
}
