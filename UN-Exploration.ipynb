{
 "cells": [
  {
   "cell_type": "code",
   "execution_count": 5,
   "id": "02dc46de-6696-49a1-aed3-20953604094a",
   "metadata": {},
   "outputs": [],
   "source": [
    "import pandas as pd\n",
    "import numpy as np\n",
    "import matplotlib.pyplot as plt\n",
    "import seaborn as sns\n",
    "\n"
   ]
  },
  {
   "cell_type": "code",
   "execution_count": 6,
   "id": "9336f147-409b-4b6e-9e4c-be87ebbe1f5c",
   "metadata": {},
   "outputs": [
    {
     "name": "stdout",
     "output_type": "stream",
     "text": [
      "     Country or Area  Year        Value  Value Footnotes\n",
      "0        Afghanistan  2023  1992.424394              NaN\n",
      "1        Afghanistan  2022  1981.710168              NaN\n",
      "2        Afghanistan  2021  2144.166570              NaN\n",
      "3        Afghanistan  2020  2769.685745              NaN\n",
      "4        Afghanistan  2019  2927.245144              NaN\n",
      "...              ...   ...          ...              ...\n",
      "8214        Zimbabwe  1994  3965.730986              NaN\n",
      "8215        Zimbabwe  1993  3634.750494              NaN\n",
      "8216        Zimbabwe  1992  3649.891947              NaN\n",
      "8217        Zimbabwe  1991  4126.405247              NaN\n",
      "8218        Zimbabwe  1990  4013.299059              NaN\n",
      "\n",
      "[8219 rows x 4 columns]\n"
     ]
    }
   ],
   "source": [
    "## Load the CSV file into a DataFrame\n",
    "gdp_df = pd.read_csv(\"gdp_per_capita.csv\")\n",
    "print(gdp_df)\n",
    "\n"
   ]
  },
  {
   "cell_type": "markdown",
   "id": "adc97ee8-a202-407b-96ce-278cffa12545",
   "metadata": {},
   "source": [
    "## Inspect the first 10 rows"
   ]
  },
  {
   "cell_type": "code",
   "execution_count": 7,
   "id": "43b75aa7-ae69-43dc-a5a8-7b6f1c0c38fc",
   "metadata": {},
   "outputs": [
    {
     "name": "stdout",
     "output_type": "stream",
     "text": [
      "First 10 rows of the DataFrame:\n",
      "  Country or Area  Year        Value  Value Footnotes\n",
      "0     Afghanistan  2023  1992.424394              NaN\n",
      "1     Afghanistan  2022  1981.710168              NaN\n",
      "2     Afghanistan  2021  2144.166570              NaN\n",
      "3     Afghanistan  2020  2769.685745              NaN\n",
      "4     Afghanistan  2019  2927.245144              NaN\n",
      "5     Afghanistan  2018  2902.392113              NaN\n",
      "6     Afghanistan  2017  2952.998916              NaN\n",
      "7     Afghanistan  2016  2958.785399              NaN\n",
      "8     Afghanistan  2015  2967.692067              NaN\n",
      "9     Afghanistan  2014  3017.942544              NaN\n"
     ]
    }
   ],
   "source": [
    "\n",
    "print(\"First 10 rows of the DataFrame:\")\n",
    "print(gdp_df.head(10))\n"
   ]
  },
  {
   "cell_type": "markdown",
   "id": "a7c96d00-f526-46ac-b481-d161ecf95d79",
   "metadata": {},
   "source": [
    "## Inspect the last 10 rows"
   ]
  },
  {
   "cell_type": "code",
   "execution_count": 8,
   "id": "aeabb7e2-9863-4331-be28-b10a1e9ca078",
   "metadata": {},
   "outputs": [
    {
     "name": "stdout",
     "output_type": "stream",
     "text": [
      "\n",
      "Last 10 rows of the DataFrame:\n",
      "     Country or Area  Year        Value  Value Footnotes\n",
      "8209        Zimbabwe  1999  4238.195198              NaN\n",
      "8210        Zimbabwe  1998  4342.858177              NaN\n",
      "8211        Zimbabwe  1997  4304.406272              NaN\n",
      "8212        Zimbabwe  1996  4271.479930              NaN\n",
      "8213        Zimbabwe  1995  3935.280057              NaN\n",
      "8214        Zimbabwe  1994  3965.730986              NaN\n",
      "8215        Zimbabwe  1993  3634.750494              NaN\n",
      "8216        Zimbabwe  1992  3649.891947              NaN\n",
      "8217        Zimbabwe  1991  4126.405247              NaN\n",
      "8218        Zimbabwe  1990  4013.299059              NaN\n"
     ]
    }
   ],
   "source": [
    "## Inspect the last 10 rows\n",
    "print(\"\\nLast 10 rows of the DataFrame:\")\n",
    "print(gdp_df.tail(10))"
   ]
  },
  {
   "cell_type": "markdown",
   "id": "25d98173-6d6f-47aa-9419-9fb062a045be",
   "metadata": {},
   "source": [
    "## Drop the 'Value Footnotes' column"
   ]
  },
  {
   "cell_type": "code",
   "execution_count": 22,
   "id": "7e494fdd-a70f-4215-86c9-471836fda052",
   "metadata": {},
   "outputs": [
    {
     "name": "stdout",
     "output_type": "stream",
     "text": [
      "          Country  Year  GDP_Per_Capita\n",
      "0     Afghanistan  2023     1992.424394\n",
      "1     Afghanistan  2022     1981.710168\n",
      "2     Afghanistan  2021     2144.166570\n",
      "3     Afghanistan  2020     2769.685745\n",
      "4     Afghanistan  2019     2927.245144\n",
      "...           ...   ...             ...\n",
      "8214     Zimbabwe  1994     3965.730986\n",
      "8215     Zimbabwe  1993     3634.750494\n",
      "8216     Zimbabwe  1992     3649.891947\n",
      "8217     Zimbabwe  1991     4126.405247\n",
      "8218     Zimbabwe  1990     4013.299059\n",
      "\n",
      "[8219 rows x 3 columns]\n"
     ]
    }
   ],
   "source": [
    "gdp_df.drop(columns=['Value Footnotes'], inplace=True)\n",
    "print(gdp_df)\n"
   ]
  },
  {
   "cell_type": "code",
   "execution_count": 11,
   "id": "ceb2dfb9-4628-4f14-b409-9f30ffcf5f2d",
   "metadata": {},
   "outputs": [
    {
     "name": "stdout",
     "output_type": "stream",
     "text": [
      "The DataFrame has 8219 rows and 4 columns.\n"
     ]
    }
   ],
   "source": [
    "num_rows, num_cols = gdp_df.shape\n",
    "print(f\"The DataFrame has {num_rows} rows and {num_cols} columns.\")"
   ]
  },
  {
   "cell_type": "markdown",
   "id": "3f6f0ee6-f41d-4a2c-8963-b08edd6c8bbd",
   "metadata": {},
   "source": [
    "## Check the data types of the columns"
   ]
  },
  {
   "cell_type": "code",
   "execution_count": 12,
   "id": "e2f972c7-911f-4a01-acb3-2068eafeed5a",
   "metadata": {},
   "outputs": [
    {
     "name": "stdout",
     "output_type": "stream",
     "text": [
      "\n",
      "Data types of the columns:\n",
      "Country or Area     object\n",
      "Year                 int64\n",
      "Value              float64\n",
      "Value Footnotes    float64\n",
      "dtype: object\n"
     ]
    }
   ],
   "source": [
    "print(\"\\nData types of the columns:\")\n",
    "print(gdp_df.dtypes)"
   ]
  },
  {
   "cell_type": "code",
   "execution_count": 23,
   "id": "d3c3b71e-79e1-4708-bae1-8ebb37f22137",
   "metadata": {},
   "outputs": [
    {
     "name": "stdout",
     "output_type": "stream",
     "text": [
      "Index(['Country', 'Year', 'GDP_Per_Capita'], dtype='object')\n"
     ]
    }
   ],
   "source": [
    "print(gdp_df.columns)"
   ]
  },
  {
   "cell_type": "code",
   "execution_count": 24,
   "id": "ee9d02cc-c346-4f67-bdb4-f1ab14390483",
   "metadata": {},
   "outputs": [
    {
     "name": "stdout",
     "output_type": "stream",
     "text": [
      "Index(['Country', 'Year', 'GDP_Per_Capita'], dtype='object')\n"
     ]
    }
   ],
   "source": [
    "## Rename columns to desired names\n",
    "gdp_df.columns = ['Country', 'Year', 'GDP_Per_Capita']  ## Ensure correctness\n",
    "print(gdp_df.columns)\n"
   ]
  },
  {
   "cell_type": "code",
   "execution_count": 25,
   "id": "fb8f2288-6fe0-47fc-a7be-08ace3faa717",
   "metadata": {},
   "outputs": [
    {
     "name": "stdout",
     "output_type": "stream",
     "text": [
      "          Country  Year  GDP_Per_Capita\n",
      "0     Afghanistan  2023     1992.424394\n",
      "1     Afghanistan  2022     1981.710168\n",
      "2     Afghanistan  2021     2144.166570\n",
      "3     Afghanistan  2020     2769.685745\n",
      "4     Afghanistan  2019     2927.245144\n",
      "...           ...   ...             ...\n",
      "8214     Zimbabwe  1994     3965.730986\n",
      "8215     Zimbabwe  1993     3634.750494\n",
      "8216     Zimbabwe  1992     3649.891947\n",
      "8217     Zimbabwe  1991     4126.405247\n",
      "8218     Zimbabwe  1990     4013.299059\n",
      "\n",
      "[8219 rows x 3 columns]\n"
     ]
    }
   ],
   "source": [
    "print(gdp_df)"
   ]
  },
  {
   "cell_type": "code",
   "execution_count": 26,
   "id": "f04a80a2-5fc0-4a7b-a505-c57bbfeaab6e",
   "metadata": {},
   "outputs": [
    {
     "name": "stdout",
     "output_type": "stream",
     "text": [
      "Country            object\n",
      "Year                int64\n",
      "GDP_Per_Capita    float64\n",
      "dtype: object\n"
     ]
    }
   ],
   "source": [
    "\n",
    "print(gdp_df.dtypes)\n"
   ]
  },
  {
   "cell_type": "markdown",
   "id": "0bcf769f-291a-4570-804f-8db7a673500b",
   "metadata": {},
   "source": [
    "## Find the unique years in the dataset"
   ]
  },
  {
   "cell_type": "code",
   "execution_count": 27,
   "id": "88606ed8-0ae9-4245-85ab-91b4005fe4dc",
   "metadata": {},
   "outputs": [
    {
     "name": "stdout",
     "output_type": "stream",
     "text": [
      "Years represented in the dataset: [2023 2022 2021 2020 2019 2018 2017 2016 2015 2014 2013 2012 2011 2010\n",
      " 2009 2008 2007 2006 2005 2004 2003 2002 2001 2000 1999 1998 1997 1996\n",
      " 1995 1994 1993 1992 1991 1990]\n"
     ]
    }
   ],
   "source": [
    "\n",
    "unique_years = gdp_df['Year'].unique()\n",
    "print(f\"Years represented in the dataset: {unique_years}\")"
   ]
  },
  {
   "cell_type": "markdown",
   "id": "7b8e5a2d-a588-4bb7-b76d-5cf71be4a92b",
   "metadata": {},
   "source": [
    "## Look at the number of observations per year"
   ]
  },
  {
   "cell_type": "code",
   "execution_count": 28,
   "id": "298532c8-9a69-404c-98ee-414bc8cce5dd",
   "metadata": {},
   "outputs": [
    {
     "name": "stdout",
     "output_type": "stream",
     "text": [
      "\n",
      "Number of observations per year:\n",
      "Year\n",
      "1990    233\n",
      "1991    234\n",
      "1992    234\n",
      "1993    234\n",
      "1994    235\n",
      "1995    236\n",
      "1996    236\n",
      "1997    238\n",
      "1998    238\n",
      "1999    238\n",
      "2000    240\n",
      "2001    240\n",
      "2002    241\n",
      "2003    241\n",
      "2004    241\n",
      "2005    241\n",
      "2006    242\n",
      "2007    242\n",
      "2008    244\n",
      "2009    245\n",
      "2010    245\n",
      "2011    246\n",
      "2012    246\n",
      "2013    247\n",
      "2014    247\n",
      "2015    247\n",
      "2016    247\n",
      "2017    247\n",
      "2018    247\n",
      "2019    247\n",
      "2020    247\n",
      "2021    247\n",
      "2022    246\n",
      "2023    240\n",
      "Name: count, dtype: int64\n"
     ]
    }
   ],
   "source": [
    "\n",
    "observations_per_year = gdp_df['Year'].value_counts().sort_index()\n",
    "print(\"\\nNumber of observations per year:\")\n",
    "print(observations_per_year)"
   ]
  },
  {
   "cell_type": "markdown",
   "id": "ca0510fb-30c6-4d70-9cfc-b14ee24215ff",
   "metadata": {},
   "source": [
    "## visualize the observations per year using a bar plot"
   ]
  },
  {
   "cell_type": "code",
   "execution_count": 29,
   "id": "7723d714-beb1-42e0-b44a-be0ba7e004f5",
   "metadata": {},
   "outputs": [
    {
     "data": {
      "image/png": "[encoded data removed]",
      "text/plain": [
       "<Figure size 1200x600 with 1 Axes>"
      ]
     },
     "metadata": {},
     "output_type": "display_data"
    }
   ],
   "source": [
    "\n",
    "observations_per_year.plot(kind='bar', figsize=(12, 6), color='skyblue')\n",
    "plt.title('Number of Observations per Year')\n",
    "plt.xlabel('Year')\n",
    "plt.ylabel('Number of Observations')\n",
    "plt.xticks(rotation=45)\n",
    "plt.grid(axis='y')\n",
    "plt.show()"
   ]
  },
  {
   "cell_type": "markdown",
   "id": "02a0544b-54d5-41ff-9040-2decc34f025b",
   "metadata": {},
   "source": [
    "## Count the number of unique countries in the dataset"
   ]
  },
  {
   "cell_type": "code",
   "execution_count": 30,
   "id": "3474efcb-dd2d-4831-8932-430e02b48ade",
   "metadata": {},
   "outputs": [
    {
     "name": "stdout",
     "output_type": "stream",
     "text": [
      "Number of countries represented in the dataset: 247\n"
     ]
    }
   ],
   "source": [
    "\n",
    "num_countries = gdp_df['Country'].nunique()\n",
    "print(f\"Number of countries represented in the dataset: {num_countries}\")"
   ]
  },
  {
   "cell_type": "markdown",
   "id": "73b85f73-d254-45f8-9c3e-bb0fc162665d",
   "metadata": {},
   "source": [
    "## Find the countries with the least observations"
   ]
  },
  {
   "cell_type": "code",
   "execution_count": 31,
   "id": "cc9863fd-692f-49ab-8f2b-1bcc5612c43c",
   "metadata": {},
   "outputs": [
    {
     "name": "stdout",
     "output_type": "stream",
     "text": [
      "\n",
      "Countries with the least observations:\n",
      "Country\n",
      "Djibouti                     11\n",
      "Turks and Caicos Islands     13\n",
      "Sint Maarten (Dutch part)    15\n",
      "Faroe Islands                16\n",
      "Kosovo                       16\n",
      "Name: count, dtype: int64\n"
     ]
    }
   ],
   "source": [
    "\n",
    "countries_least_represented = gdp_df['Country'].value_counts().nsmallest(5)\n",
    "print(\"\\nCountries with the least observations:\")\n",
    "print(countries_least_represented)"
   ]
  },
  {
   "cell_type": "markdown",
   "id": "e3e7a21a-6cfa-43f3-8b39-9fcbf3532bb7",
   "metadata": {},
   "source": [
    "## Create a new DataFrame for the year 2021"
   ]
  },
  {
   "cell_type": "code",
   "execution_count": 34,
   "id": "78921b19-ca24-45d2-8da2-6ed3b91e10c5",
   "metadata": {},
   "outputs": [
    {
     "name": "stdout",
     "output_type": "stream",
     "text": [
      "GDP Data for the year 2021:\n",
      "                         Country  Year  GDP_Per_Capita\n",
      "2                    Afghanistan  2021     2144.166570\n",
      "26   Africa Eastern and Southern  2021     3934.287267\n",
      "60    Africa Western and Central  2021     4698.926894\n",
      "94                       Albania  2021    16113.136519\n",
      "128                      Algeria  2021    14496.865470\n"
     ]
    }
   ],
   "source": [
    "\n",
    "gdp_2021 = gdp_df[gdp_df['Year'] == 2021]\n",
    "print(\"GDP Data for the year 2021:\")\n",
    "print(gdp_2021.head())"
   ]
  },
  {
   "cell_type": "markdown",
   "id": "e0e0dfb6-c6b1-4aef-b5f9-93dd4ac352e8",
   "metadata": {},
   "source": [
    "## Summary statistics for GDP per capita in 2021"
   ]
  },
  {
   "cell_type": "code",
   "execution_count": 35,
   "id": "34766931-ab1a-4349-9cd4-91939f5d3714",
   "metadata": {},
   "outputs": [
    {
     "name": "stdout",
     "output_type": "stream",
     "text": [
      "Summary statistics for GDP per capita in 2021:\n",
      "count       247.000000\n",
      "mean      24478.517262\n",
      "std       24601.525764\n",
      "min         836.665571\n",
      "25%        5996.532844\n",
      "50%       15900.976581\n",
      "75%       37298.776853\n",
      "max      135379.291201\n",
      "Name: GDP_Per_Capita, dtype: float64\n"
     ]
    }
   ],
   "source": [
    "summary_statistics_2021 = gdp_2021['GDP_Per_Capita'].describe()\n",
    "print(\"Summary statistics for GDP per capita in 2021:\")\n",
    "print(summary_statistics_2021)"
   ]
  },
  {
   "cell_type": "markdown",
   "id": "983862b4-ab9c-4e5b-a438-6797c516e78d",
   "metadata": {},
   "source": [
    "## Create a histogram of GDP per capita for 2021"
   ]
  },
  {
   "cell_type": "code",
   "execution_count": 36,
   "id": "6f873484-b06a-474c-bcb9-b5bc39cd8c00",
   "metadata": {},
   "outputs": [
    {
     "data": {
      "image/png": "[encoded data removed]",
      "text/plain": [
       "<Figure size 1200x600 with 1 Axes>"
      ]
     },
     "metadata": {},
     "output_type": "display_data"
    }
   ],
   "source": [
    "\n",
    "plt.figure(figsize=(12, 6))\n",
    "plt.hist(gdp_2021['GDP_Per_Capita'], bins=30, color='skyblue', edgecolor='black')\n",
    "plt.title('Histogram of GDP Per Capita in 2021')\n",
    "plt.xlabel('GDP Per Capita')\n",
    "plt.ylabel('Frequency')\n",
    "plt.grid(axis='y')\n",
    "plt.show()\n",
    "\n",
    "\n"
   ]
  },
  {
   "cell_type": "markdown",
   "id": "89ffc26a-c074-4fdc-8f9b-3fc39de43727",
   "metadata": {},
   "source": [
    "## Top 5 countries by GDP per capita in 2021"
   ]
  },
  {
   "cell_type": "code",
   "execution_count": 38,
   "id": "ed63cb6e-61cd-4ad7-96b1-d693e028a192",
   "metadata": {},
   "outputs": [
    {
     "name": "stdout",
     "output_type": "stream",
     "text": [
      "Top 5 countries by GDP per capita in 2021:\n",
      "         Country  GDP_Per_Capita\n",
      "4425  Luxembourg   135379.291201\n",
      "6513   Singapore   131864.092336\n",
      "3492     Ireland   118594.746862\n",
      "6118       Qatar   116832.570290\n",
      "740      Bermuda    92276.234605\n"
     ]
    }
   ],
   "source": [
    "top_5_countries = gdp_2021.nlargest(5, 'GDP_Per_Capita')[['Country', 'GDP_Per_Capita']]\n",
    "print(\"Top 5 countries by GDP per capita in 2021:\")\n",
    "print(top_5_countries)"
   ]
  },
  {
   "cell_type": "markdown",
   "id": "8417f999-50dc-4cc0-a287-df9a267ae956",
   "metadata": {},
   "source": [
    "## Bottom 5 countries by GDP per capita in 2021"
   ]
  },
  {
   "cell_type": "code",
   "execution_count": 39,
   "id": "5ca66327-f847-4fbe-bf62-49ea1ec52597",
   "metadata": {},
   "outputs": [
    {
     "name": "stdout",
     "output_type": "stream",
     "text": [
      "\n",
      "Bottom 5 countries by GDP per capita in 2021:\n",
      "                       Country  GDP_Per_Capita\n",
      "1045                   Burundi      836.665571\n",
      "1301  Central African Republic     1128.552380\n",
      "1733           Dem. Rep. Congo     1313.618218\n",
      "6698                   Somalia     1392.464262\n",
      "5132                Mozambique     1457.235409\n"
     ]
    }
   ],
   "source": [
    "bottom_5_countries = gdp_2021.nsmallest(5, 'GDP_Per_Capita')[['Country', 'GDP_Per_Capita']]\n",
    "print(\"\\nBottom 5 countries by GDP per capita in 2021:\")\n",
    "print(bottom_5_countries)"
   ]
  },
  {
   "cell_type": "markdown",
   "id": "db39067c-7ad9-4d2f-9a73-37962da25f22",
   "metadata": {},
   "source": [
    "## Filter for the years 1990 and 2021"
   ]
  },
  {
   "cell_type": "code",
   "execution_count": 62,
   "id": "b6ec4f3c-8796-4736-8c2d-975355cca7e1",
   "metadata": {},
   "outputs": [
    {
     "name": "stdout",
     "output_type": "stream",
     "text": [
      "                        Country  Year  GDP_Per_Capita\n",
      "2                   Afghanistan  2021     2144.166570\n",
      "26  Africa Eastern and Southern  2021     3934.287267\n",
      "57  Africa Eastern and Southern  1990     3386.854480\n",
      "60   Africa Western and Central  2021     4698.926894\n",
      "91   Africa Western and Central  1990     3299.401375\n"
     ]
    }
   ],
   "source": [
    "gdp_filtered = gdp_df[gdp_df['Year'].isin([1990, 2021])]\n",
    "print(gdp_filtered.head())"
   ]
  },
  {
   "cell_type": "code",
   "execution_count": 63,
   "id": "bfedd1a7-652e-41b6-96f0-f6832fc46e70",
   "metadata": {},
   "outputs": [
    {
     "name": "stdout",
     "output_type": "stream",
     "text": [
      "                         Country  Year  GDP_Per_Capita\n",
      "2                    Afghanistan  2021     2144.166570\n",
      "26   Africa Eastern and Southern  2021     3934.287267\n",
      "60    Africa Western and Central  2021     4698.926894\n",
      "94                       Albania  2021    16113.136519\n",
      "128                      Algeria  2021    14496.865470\n"
     ]
    }
   ],
   "source": [
    "gdp_2021 = gdp_df[gdp_df['Year'] == 2021]\n",
    "\n",
    "## Display the first few rows of the new DataFrame to verify\n",
    "print(gdp_2021.head())"
   ]
  },
  {
   "cell_type": "code",
   "execution_count": 64,
   "id": "b2d47971-9fea-4d7e-8a5f-eb47d44de419",
   "metadata": {},
   "outputs": [
    {
     "name": "stdout",
     "output_type": "stream",
     "text": [
      "                         Country  Year  GDP_Per_Capita\n",
      "57   Africa Eastern and Southern  1990     3386.854480\n",
      "91    Africa Western and Central  1990     3299.401375\n",
      "125                      Albania  1990     5327.747458\n",
      "159                      Algeria  1990    11728.545729\n",
      "193                      Andorra  1990    50036.300776\n"
     ]
    }
   ],
   "source": [
    "gdp_1990 = gdp_df[gdp_df['Year'] == 1990]\n",
    "print(gdp_1990.head())"
   ]
  },
  {
   "cell_type": "code",
   "execution_count": null,
   "id": "dc960e71-c413-465a-93f7-291714369d0a",
   "metadata": {},
   "outputs": [],
   "source": []
  }
 ],
 "metadata": {
  "kernelspec": {
   "display_name": "Python 3 (ipykernel)",
   "language": "python",
   "name": "python3"
  },
  "language_info": {
   "codemirror_mode": {
    "name": "ipython",
    "version": 3
   },
   "file_extension": ".py",
   "mimetype": "text/x-python",
   "name": "python",
   "nbconvert_exporter": "python",
   "pygments_lexer": "ipython3",
   "version": "3.13.5"
  }
 },
 "nbformat": 4,
 "nbformat_minor": 5
}
